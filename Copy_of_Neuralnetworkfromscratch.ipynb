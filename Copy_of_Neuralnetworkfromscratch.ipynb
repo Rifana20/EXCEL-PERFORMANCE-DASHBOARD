{
  "nbformat": 4,
  "nbformat_minor": 0,
  "metadata": {
    "colab": {
      "provenance": [],
      "authorship_tag": "ABX9TyOv5vSFuZFRz2THpHJFCZhH",
      "include_colab_link": true
    },
    "kernelspec": {
      "name": "python3",
      "display_name": "Python 3"
    },
    "language_info": {
      "name": "python"
    }
  },
  "cells": [
    {
      "cell_type": "markdown",
      "metadata": {
        "id": "view-in-github",
        "colab_type": "text"
      },
      "source": [
        "<a href=\"https://colab.research.google.com/github/Rifana20/EXCEL-PERFORMANCE-DASHBOARD/blob/main/Copy_of_Neuralnetworkfromscratch.ipynb\" target=\"_parent\"><img src=\"https://colab.research.google.com/assets/colab-badge.svg\" alt=\"Open In Colab\"/></a>"
      ]
    },
    {
      "cell_type": "markdown",
      "source": [
        "simple feedforward neural network from scratch (using only NumPy) to classify handwritten digits (0–9) from the MNIST dataset.\n",
        "It includes manual implementation of:\n",
        "\t•\tForward propagation\n",
        "\t•\tSoftmax activation\n",
        "\t•\tCross-entropy loss\n",
        "\t•\tBackpropagation\n",
        "\t•\tGradient descent\n",
        "\n",
        "It achieves ~92.5% accuracy on test data — without using libraries like TensorFlow or PyTorch."
      ],
      "metadata": {
        "id": "UFhNSc5teDLr"
      }
    },
    {
      "cell_type": "code",
      "source": [
        "import numpy as np\n",
        "from tensorflow.keras.datasets import mnist\n",
        "from sklearn.preprocessing import OneHotEncoder\n",
        "import matplotlib.pyplot as plt\n",
        "\n",
        "# 1. Load and preprocess the data\n",
        "(X_train, y_train), (X_test, y_test) = mnist.load_data()\n",
        "\n",
        "# Flatten 28x28 images to 784 vector\n",
        "X_train = X_train.reshape(-1, 28*28) / 255.0\n",
        "X_test = X_test.reshape(-1, 28*28) / 255.0\n",
        "\n",
        "# One-hot encode labels\n",
        "encoder = OneHotEncoder(sparse_output=False)\n",
        "y_train_ohe = encoder.fit_transform(y_train.reshape(-1, 1))\n",
        "y_test_ohe = encoder.transform(y_test.reshape(-1, 1))\n",
        "\n",
        "# 2. Helper functions\n",
        "def relu(x):\n",
        "    return np.maximum(0, x)\n",
        "\n",
        "def relu_derivative(x):\n",
        "    return (x > 0).astype(float)\n",
        "\n",
        "def softmax(x):\n",
        "    exps = np.exp(x - np.max(x, axis=1, keepdims=True))  # For numerical stability\n",
        "    return exps / np.sum(exps, axis=1, keepdims=True)\n",
        "\n",
        "def cross_entropy(y_pred, y_true):\n",
        "    # Clip values to avoid log(0)\n",
        "    y_pred = np.clip(y_pred, 1e-10, 1.0)\n",
        "    return -np.mean(np.sum(y_true * np.log(y_pred), axis=1))\n",
        "\n",
        "def accuracy(y_pred, y_true):\n",
        "    pred_labels = np.argmax(y_pred, axis=1)\n",
        "    true_labels = np.argmax(y_true, axis=1)\n",
        "    return np.mean(pred_labels == true_labels)\n",
        "\n",
        "# 3. Initialize weights and biases\n",
        "input_size = 784\n",
        "hidden_size = 128\n",
        "output_size = 10\n",
        "learning_rate = 0.01\n",
        "\n",
        "W1 = np.random.randn(input_size, hidden_size) * 0.01\n",
        "b1 = np.zeros((1, hidden_size))\n",
        "W2 = np.random.randn(hidden_size, output_size) * 0.01\n",
        "b2 = np.zeros((1, output_size))\n",
        "\n",
        "# 4. Training loop\n",
        "epochs = 10\n",
        "batch_size = 64\n",
        "\n",
        "for epoch in range(epochs):\n",
        "    permutation = np.random.permutation(X_train.shape[0])\n",
        "    X_shuffled = X_train[permutation]\n",
        "    y_shuffled = y_train_ohe[permutation]\n",
        "\n",
        "    for i in range(0, X_train.shape[0], batch_size):\n",
        "        X_batch = X_shuffled[i:i+batch_size]\n",
        "        y_batch = y_shuffled[i:i+batch_size]\n",
        "\n",
        "        # Forward pass\n",
        "        z1 = X_batch @ W1 + b1\n",
        "        a1 = relu(z1)\n",
        "        z2 = a1 @ W2 + b2\n",
        "        y_pred = softmax(z2)\n",
        "\n",
        "        # Loss\n",
        "        loss = cross_entropy(y_pred, y_batch)\n",
        "\n",
        "        # Backward pass\n",
        "        dz2 = y_pred - y_batch\n",
        "        dW2 = a1.T @ dz2 / batch_size\n",
        "        db2 = np.sum(dz2, axis=0, keepdims=True) / batch_size\n",
        "\n",
        "        da1 = dz2 @ W2.T\n",
        "        dz1 = da1 * relu_derivative(z1)\n",
        "        dW1 = X_batch.T @ dz1 / batch_size\n",
        "        db1 = np.sum(dz1, axis=0, keepdims=True) / batch_size\n",
        "\n",
        "        # Update weights\n",
        "        W2 -= learning_rate * dW2\n",
        "        b2 -= learning_rate * db2\n",
        "        W1 -= learning_rate * dW1\n",
        "        b1 -= learning_rate * db1\n",
        "\n",
        "    # Validation after each epoch\n",
        "    val_z1 = X_test @ W1 + b1\n",
        "    val_a1 = relu(val_z1)\n",
        "    val_z2 = val_a1 @ W2 + b2\n",
        "    val_pred = softmax(val_z2)\n",
        "\n",
        "    val_loss = cross_entropy(val_pred, y_test_ohe)\n",
        "    val_acc = accuracy(val_pred, y_test_ohe)\n",
        "    print(f\"Epoch {epoch+1}/{epochs} - Val Loss: {val_loss:.4f} - Val Accuracy: {val_acc:.4f}\")"
      ],
      "metadata": {
        "colab": {
          "base_uri": "https://localhost:8080/"
        },
        "id": "I-OSA2WxeFkD",
        "outputId": "885a2ad8-95dc-48ce-931d-01b19f1659f8"
      },
      "execution_count": null,
      "outputs": [
        {
          "output_type": "stream",
          "name": "stdout",
          "text": [
            "Downloading data from https://storage.googleapis.com/tensorflow/tf-keras-datasets/mnist.npz\n",
            "\u001b[1m11490434/11490434\u001b[0m \u001b[32m━━━━━━━━━━━━━━━━━━━━\u001b[0m\u001b[37m\u001b[0m \u001b[1m0s\u001b[0m 0us/step\n",
            "Epoch 1/10 - Val Loss: 0.9713 - Val Accuracy: 0.7769\n",
            "Epoch 2/10 - Val Loss: 0.5059 - Val Accuracy: 0.8703\n",
            "Epoch 3/10 - Val Loss: 0.4003 - Val Accuracy: 0.8908\n",
            "Epoch 4/10 - Val Loss: 0.3551 - Val Accuracy: 0.9006\n",
            "Epoch 5/10 - Val Loss: 0.3283 - Val Accuracy: 0.9073\n",
            "Epoch 6/10 - Val Loss: 0.3091 - Val Accuracy: 0.9120\n",
            "Epoch 7/10 - Val Loss: 0.2959 - Val Accuracy: 0.9157\n",
            "Epoch 8/10 - Val Loss: 0.2834 - Val Accuracy: 0.9188\n",
            "Epoch 9/10 - Val Loss: 0.2731 - Val Accuracy: 0.9237\n",
            "Epoch 10/10 - Val Loss: 0.2641 - Val Accuracy: 0.9251\n"
          ]
        }
      ]
    },
    {
      "cell_type": "code",
      "source": [
        "# Visualize 5 predictions\n",
        "pred_labels = np.argmax(val_pred, axis=1)\n",
        "plt.figure(figsize=(10, 4))\n",
        "for i in range(5):\n",
        "    plt.subplot(1, 5, i+1)\n",
        "    plt.imshow(X_test[i].reshape(28, 28), cmap='gray')\n",
        "    plt.title(f\"Pred: {pred_labels[i]}\")\n",
        "    plt.axis('off')\n",
        "plt.tight_layout()\n",
        "plt.show()"
      ],
      "metadata": {
        "colab": {
          "base_uri": "https://localhost:8080/",
          "height": 88
        },
        "id": "1qzWpzzUeYfT",
        "outputId": "0441387d-4e61-4312-cd49-4be960f7534a"
      },
      "execution_count": null,
      "outputs": [
        {
          "output_type": "display_data",
          "data": {
            "text/plain": [
              "<Figure size 1000x400 with 5 Axes>"
            ],
            "image/png": "[encoded data removed]"
          },
          "metadata": {}
        }
      ]
    },
    {
      "cell_type": "code",
      "source": [],
      "metadata": {
        "id": "I5NrjPMIeZcy"
      },
      "execution_count": null,
      "outputs": []
    }
  ]
}